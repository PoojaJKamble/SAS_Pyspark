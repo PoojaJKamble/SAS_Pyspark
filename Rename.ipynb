{
  "nbformat": 4,
  "nbformat_minor": 0,
  "metadata": {
    "colab": {
      "name": "Untitled0.ipynb",
      "provenance": [],
      "collapsed_sections": [],
      "authorship_tag": "ABX9TyPWGAGF3qDpYM+eReMCCkRh",
      "include_colab_link": true
    },
    "kernelspec": {
      "name": "python3",
      "display_name": "Python 3"
    },
    "language_info": {
      "name": "python"
    }
  },
  "cells": [
    {
      "cell_type": "markdown",
      "metadata": {
        "id": "view-in-github",
        "colab_type": "text"
      },
      "source": [
        "<a href=\"https://colab.research.google.com/github/PoojaJKamble/SAS_Pyspark/blob/main/Rename.ipynb\" target=\"_parent\"><img src=\"https://colab.research.google.com/assets/colab-badge.svg\" alt=\"Open In Colab\"/></a>"
      ]
    },
    {
      "cell_type": "code",
      "execution_count": 1,
      "metadata": {
        "colab": {
          "base_uri": "https://localhost:8080/"
        },
        "id": "DJTzDVnFM5sy",
        "outputId": "0f2b60b4-ba78-422c-c14c-85c280a1b02b"
      },
      "outputs": [
        {
          "output_type": "stream",
          "name": "stdout",
          "text": [
            "Collecting pyspark\n",
            "  Downloading pyspark-3.2.1.tar.gz (281.4 MB)\n",
            "\u001b[K     |████████████████████████████████| 281.4 MB 25 kB/s \n",
            "\u001b[?25hCollecting py4j==0.10.9.3\n",
            "  Downloading py4j-0.10.9.3-py2.py3-none-any.whl (198 kB)\n",
            "\u001b[K     |████████████████████████████████| 198 kB 50.1 MB/s \n",
            "\u001b[?25hBuilding wheels for collected packages: pyspark\n",
            "  Building wheel for pyspark (setup.py) ... \u001b[?25l\u001b[?25hdone\n",
            "  Created wheel for pyspark: filename=pyspark-3.2.1-py2.py3-none-any.whl size=281853642 sha256=605b644bff2724bb82747c8668202de9ed82326119b381b62e93f322e05c852a\n",
            "  Stored in directory: /root/.cache/pip/wheels/9f/f5/07/7cd8017084dce4e93e84e92efd1e1d5334db05f2e83bcef74f\n",
            "Successfully built pyspark\n",
            "Installing collected packages: py4j, pyspark\n",
            "Successfully installed py4j-0.10.9.3 pyspark-3.2.1\n"
          ]
        }
      ],
      "source": [
        "!pip install pyspark\n",
        "import pyspark\n",
        "from pyspark.sql import SparkSession\n",
        "spark = SparkSession.builder.getOrCreate()"
      ]
    },
    {
      "cell_type": "code",
      "source": [
        "\n",
        "from pyspark.sql.types import StructType,StructField, StringType, IntegerType\n",
        "data2 = [(\"James\",\"Smith\",\"36636\",\"M\",3000),\n",
        "    (\"Michael\",\"Klink\",\"40288\",\"M\",4000),\n",
        "    (\"Robert\",\"Williams\",\"42114\",\"M\",4000)\n",
        "  ]\n",
        "\n",
        "schema = StructType([ \\\n",
        "    StructField(\"firstname\",StringType(),True), \\\n",
        "    StructField(\"lastname\",StringType(),True), \\\n",
        "    StructField(\"id\", StringType(), True), \\\n",
        "    StructField(\"gender\", StringType(), True), \\\n",
        "    StructField(\"salary\", IntegerType(), True) \\\n",
        "  ])\n",
        " \n",
        "df = spark.createDataFrame(data=data2,schema=schema)\n",
        "#df.printSchema()\n",
        "df.show(truncate=False)\n"
      ],
      "metadata": {
        "colab": {
          "base_uri": "https://localhost:8080/"
        },
        "id": "dTtqWmEUNTU6",
        "outputId": "b83950ad-bdab-4573-ec3b-df8f1a4200b1"
      },
      "execution_count": 10,
      "outputs": [
        {
          "output_type": "stream",
          "name": "stdout",
          "text": [
            "+---------+--------+-----+------+------+\n",
            "|firstname|lastname|id   |gender|salary|\n",
            "+---------+--------+-----+------+------+\n",
            "|James    |Smith   |36636|M     |3000  |\n",
            "|Michael  |Klink   |40288|M     |4000  |\n",
            "|Robert   |Williams|42114|M     |4000  |\n",
            "+---------+--------+-----+------+------+\n",
            "\n"
          ]
        }
      ]
    },
    {
      "cell_type": "code",
      "source": [
        "df.withColumnRenamed(\"firstname\",\"Student_FirstName\").show(truncate=False)"
      ],
      "metadata": {
        "colab": {
          "base_uri": "https://localhost:8080/"
        },
        "id": "R-N3L1FEQvbA",
        "outputId": "5df81c85-6f65-433a-90ae-6623423ee549"
      },
      "execution_count": 11,
      "outputs": [
        {
          "output_type": "stream",
          "name": "stdout",
          "text": [
            "+-----------------+--------+-----+------+------+\n",
            "|Student_FirstName|lastname|id   |gender|salary|\n",
            "+-----------------+--------+-----+------+------+\n",
            "|James            |Smith   |36636|M     |3000  |\n",
            "|Michael          |Klink   |40288|M     |4000  |\n",
            "|Robert           |Williams|42114|M     |4000  |\n",
            "+-----------------+--------+-----+------+------+\n",
            "\n"
          ]
        }
      ]
    },
    {
      "cell_type": "code",
      "source": [
        "input_data=sas_data=\"\"\"data deposit_base_&cdt.;\n",
        "set deposit_base_&cdt. (rename=CASA_flow_segment=CASA_flow_segment_org);\n",
        "run;\"\"\""
      ],
      "metadata": {
        "id": "FhBAYqeNTOy-"
      },
      "execution_count": 14,
      "outputs": []
    },
    {
      "cell_type": "code",
      "source": [
        "import re"
      ],
      "metadata": {
        "id": "603TQZfnTPD9"
      },
      "execution_count": 15,
      "outputs": []
    },
    {
      "cell_type": "code",
      "source": [
        "for line in input_data.split('\\n'):\n",
        "        #print(line)    \n",
        "        pattern = \"rename=\"\n",
        "        condition_bool = bool(re.findall(pattern, line))\n",
        "        #print(condition_bool)\n",
        "        if condition_bool == True:        \n",
        "            if_then_true=line.split()[-1].strip(\";\")\n",
        "            if_then_true==if_then_true\n",
        "            print(if_then_true)"
      ],
      "metadata": {
        "colab": {
          "base_uri": "https://localhost:8080/"
        },
        "id": "40eCmcTEnrGj",
        "outputId": "ecdd9f67-0152-47a3-d9f7-e66debb17ec8"
      },
      "execution_count": 16,
      "outputs": [
        {
          "output_type": "stream",
          "name": "stdout",
          "text": [
            "(rename=CASA_flow_segment=CASA_flow_segment_org)\n"
          ]
        }
      ]
    },
    {
      "cell_type": "code",
      "source": [
        ""
      ],
      "metadata": {
        "id": "vov20qJZzp-d"
      },
      "execution_count": null,
      "outputs": []
    }
  ]
}